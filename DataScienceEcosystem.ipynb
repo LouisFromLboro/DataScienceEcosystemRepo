{
 "cells": [
  {
   "cell_type": "markdown",
   "id": "eb0edaaa-b64b-4631-a0bc-cdc272bd068e",
   "metadata": {},
   "source": [
    "# Data Science Tools and Ecosystem"
   ]
  },
  {
   "cell_type": "markdown",
   "id": "e80bbb98-c305-4389-8f68-2de736301c21",
   "metadata": {},
   "source": [
    "In  this notebook, Data Science Tools and Ecosystem are summarized."
   ]
  },
  {
   "cell_type": "markdown",
   "id": "5abfa029-0fda-40f6-ba8b-c8a902a928cb",
   "metadata": {},
   "source": [
    "Objectives:\n",
    "- List popular languages for Data Science\n",
    "- List popular libraries for Data Science\n",
    "- List popular open source development environment tools for Data Science\n",
    "- Evaluate an arithmetic expression\n",
    "- Convert minutes to hours"
   ]
  },
  {
   "cell_type": "markdown",
   "id": "7537f349-f9b6-4f1b-9605-da6835f393fa",
   "metadata": {},
   "source": [
    "Some of the popular languages that Data Scientists use are:\n",
    "1. Python\n",
    "2. R\n",
    "3. SQL"
   ]
  },
  {
   "cell_type": "markdown",
   "id": "a990881e-871d-4f82-bd9f-0b9e32e95e20",
   "metadata": {},
   "source": [
    "Some of the commonly used libraries used by Data Scientists include:\n",
    "1. Pandas\n",
    "2. NumPy\n",
    "3. PyTorch"
   ]
  },
  {
   "cell_type": "markdown",
   "id": "1824235d-3e58-4f00-ac55-ab78538430e5",
   "metadata": {},
   "source": [
    "|Data Science Tools|\n",
    "|------------------|\n",
    "|Jupyter|\n",
    "|Jupyter Labs|\n",
    "|R Studio|"
   ]
  },
  {
   "cell_type": "markdown",
   "id": "a14fa352-2d60-49b1-ab47-77e2c1e234bd",
   "metadata": {},
   "source": [
    "### Below are a few examples of evaluating arithmetic expressions in Python."
   ]
  },
  {
   "cell_type": "code",
   "execution_count": 1,
   "id": "f3c8cbec-1862-4a01-8655-bf7474dc6ea3",
   "metadata": {
    "tags": []
   },
   "outputs": [
    {
     "data": {
      "text/plain": [
       "17"
      ]
     },
     "execution_count": 1,
     "metadata": {},
     "output_type": "execute_result"
    }
   ],
   "source": [
    "# This is a simple arithmetic expression to multiply then add integers\n",
    "(3*4)+5"
   ]
  },
  {
   "cell_type": "code",
   "execution_count": 2,
   "id": "c795ccf1-d478-436f-bed1-727646c5e260",
   "metadata": {
    "tags": []
   },
   "outputs": [
    {
     "data": {
      "text/plain": [
       "'200 minutes = 3.3333333333333335 hours'"
      ]
     },
     "execution_count": 2,
     "metadata": {},
     "output_type": "execute_result"
    }
   ],
   "source": [
    "# This will convert 200 minutes to hoursby dividing by 60\n",
    "minutes = 200\n",
    "f\"{minutes} minutes = {minutes/60} hours\""
   ]
  },
  {
   "cell_type": "markdown",
   "id": "1ef33666-db16-4daf-ae04-246902ee27e7",
   "metadata": {},
   "source": [
    "## Author\n",
    "Louis OC"
   ]
  }
 ],
 "metadata": {
  "kernelspec": {
   "display_name": "Python",
   "language": "python",
   "name": "conda-env-python-py"
  },
  "language_info": {
   "codemirror_mode": {
    "name": "ipython",
    "version": 3
   },
   "file_extension": ".py",
   "mimetype": "text/x-python",
   "name": "python",
   "nbconvert_exporter": "python",
   "pygments_lexer": "ipython3",
   "version": "3.7.12"
  }
 },
 "nbformat": 4,
 "nbformat_minor": 5
}
